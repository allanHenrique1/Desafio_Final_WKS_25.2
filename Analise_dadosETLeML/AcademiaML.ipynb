{
  "nbformat": 4,
  "nbformat_minor": 0,
  "metadata": {
    "colab": {
      "provenance": []
    },
    "kernelspec": {
      "name": "python3",
      "display_name": "Python 3"
    },
    "language_info": {
      "name": "python"
    }
  },
  "cells": [
    {
      "cell_type": "code",
      "execution_count": 31,
      "metadata": {
        "id": "iK4h1sCx_1xa"
      },
      "outputs": [],
      "source": [
        "#Importações\n",
        "import pandas as pd\n",
        "from sklearn.preprocessing import StandardScaler\n",
        "from sklearn.model_selection import train_test_split\n",
        "from sklearn.linear_model import LogisticRegression\n",
        "from sklearn.neighbors import KNeighborsClassifier\n",
        "from sklearn.tree import DecisionTreeClassifier\n",
        "from sklearn.ensemble import RandomForestClassifier\n",
        "from sklearn.metrics import classification_report\n",
        "import joblib"
      ]
    },
    {
      "cell_type": "markdown",
      "source": [
        "🏋️ Projeto Machine Learning – Academia RedFit\n"
      ],
      "metadata": {
        "id": "epoN9XenAXHt"
      }
    },
    {
      "cell_type": "markdown",
      "source": [
        "1. Abordar o problema e Analisar\\\n",
        "Objetivo: Classificar clientes da RedFit em sedentário, ativo ou atleta com base em suas informações (idade, sexo, PGC, etc.)."
      ],
      "metadata": {
        "id": "y2iWgH6cAudW"
      }
    },
    {
      "cell_type": "markdown",
      "source": [
        "2. Obter os dados"
      ],
      "metadata": {
        "id": "HPDQqckZA5Sy"
      }
    },
    {
      "cell_type": "code",
      "source": [
        "df = pd.read_csv(\"dados_tratados.csv\")\n",
        "\n",
        "df.head()"
      ],
      "metadata": {
        "colab": {
          "base_uri": "https://localhost:8080/",
          "height": 226
        },
        "id": "EPZY1742A7S4",
        "outputId": "1dcf79cd-08a9-4b29-dc41-76ef2ec2cb21"
      },
      "execution_count": null,
      "outputs": [
        {
          "output_type": "execute_result",
          "data": {
            "text/plain": [
              "   idade       sexo  frequencia_semanal_treino tipo_atividade  \\\n",
              "0     48      Outro                        7.0        Natação   \n",
              "1     30      Outro                        7.0           Yoga   \n",
              "2     35  Masculino                        5.0         Cardio   \n",
              "3     43      Outro                        3.0           Yoga   \n",
              "4     37  Masculino                        0.0       CrossFit   \n",
              "\n",
              "   tempo_medio_exercicio  minutos_totais_semana  preco_plano  \\\n",
              "0                   45.3                  317.1       188.47   \n",
              "1                   98.1                  686.7       198.07   \n",
              "2                   33.9                  169.5       154.90   \n",
              "3                   75.6                  226.8       250.79   \n",
              "4                  114.0                    0.0       168.02   \n",
              "\n",
              "  possui_nutricionista  primeiro_PGC  ultimo_PGC data_matricula      estado  \\\n",
              "0                  Não          39.5        24.9     2021-07-28       Ativa   \n",
              "1                  Não          25.2        23.5     2020-12-28       Ativa   \n",
              "2                  Não          27.2        11.4     2022-02-27       Ativa   \n",
              "3                  Sim          14.4        19.2     2022-12-01       Ativa   \n",
              "4                  Sim          21.5        18.1     2024-01-20  Sedentária   \n",
              "\n",
              "   evolucao_PGC  \n",
              "0          14.6  \n",
              "1           1.7  \n",
              "2          15.8  \n",
              "3          -4.8  \n",
              "4           3.4  "
            ],
            "text/html": [
              "\n",
              "  <div id=\"df-8eb938f9-d6ad-4c2a-a63f-e504431c317e\" class=\"colab-df-container\">\n",
              "    <div>\n",
              "<style scoped>\n",
              "    .dataframe tbody tr th:only-of-type {\n",
              "        vertical-align: middle;\n",
              "    }\n",
              "\n",
              "    .dataframe tbody tr th {\n",
              "        vertical-align: top;\n",
              "    }\n",
              "\n",
              "    .dataframe thead th {\n",
              "        text-align: right;\n",
              "    }\n",
              "</style>\n",
              "<table border=\"1\" class=\"dataframe\">\n",
              "  <thead>\n",
              "    <tr style=\"text-align: right;\">\n",
              "      <th></th>\n",
              "      <th>idade</th>\n",
              "      <th>sexo</th>\n",
              "      <th>frequencia_semanal_treino</th>\n",
              "      <th>tipo_atividade</th>\n",
              "      <th>tempo_medio_exercicio</th>\n",
              "      <th>minutos_totais_semana</th>\n",
              "      <th>preco_plano</th>\n",
              "      <th>possui_nutricionista</th>\n",
              "      <th>primeiro_PGC</th>\n",
              "      <th>ultimo_PGC</th>\n",
              "      <th>data_matricula</th>\n",
              "      <th>estado</th>\n",
              "      <th>evolucao_PGC</th>\n",
              "    </tr>\n",
              "  </thead>\n",
              "  <tbody>\n",
              "    <tr>\n",
              "      <th>0</th>\n",
              "      <td>48</td>\n",
              "      <td>Outro</td>\n",
              "      <td>7.0</td>\n",
              "      <td>Natação</td>\n",
              "      <td>45.3</td>\n",
              "      <td>317.1</td>\n",
              "      <td>188.47</td>\n",
              "      <td>Não</td>\n",
              "      <td>39.5</td>\n",
              "      <td>24.9</td>\n",
              "      <td>2021-07-28</td>\n",
              "      <td>Ativa</td>\n",
              "      <td>14.6</td>\n",
              "    </tr>\n",
              "    <tr>\n",
              "      <th>1</th>\n",
              "      <td>30</td>\n",
              "      <td>Outro</td>\n",
              "      <td>7.0</td>\n",
              "      <td>Yoga</td>\n",
              "      <td>98.1</td>\n",
              "      <td>686.7</td>\n",
              "      <td>198.07</td>\n",
              "      <td>Não</td>\n",
              "      <td>25.2</td>\n",
              "      <td>23.5</td>\n",
              "      <td>2020-12-28</td>\n",
              "      <td>Ativa</td>\n",
              "      <td>1.7</td>\n",
              "    </tr>\n",
              "    <tr>\n",
              "      <th>2</th>\n",
              "      <td>35</td>\n",
              "      <td>Masculino</td>\n",
              "      <td>5.0</td>\n",
              "      <td>Cardio</td>\n",
              "      <td>33.9</td>\n",
              "      <td>169.5</td>\n",
              "      <td>154.90</td>\n",
              "      <td>Não</td>\n",
              "      <td>27.2</td>\n",
              "      <td>11.4</td>\n",
              "      <td>2022-02-27</td>\n",
              "      <td>Ativa</td>\n",
              "      <td>15.8</td>\n",
              "    </tr>\n",
              "    <tr>\n",
              "      <th>3</th>\n",
              "      <td>43</td>\n",
              "      <td>Outro</td>\n",
              "      <td>3.0</td>\n",
              "      <td>Yoga</td>\n",
              "      <td>75.6</td>\n",
              "      <td>226.8</td>\n",
              "      <td>250.79</td>\n",
              "      <td>Sim</td>\n",
              "      <td>14.4</td>\n",
              "      <td>19.2</td>\n",
              "      <td>2022-12-01</td>\n",
              "      <td>Ativa</td>\n",
              "      <td>-4.8</td>\n",
              "    </tr>\n",
              "    <tr>\n",
              "      <th>4</th>\n",
              "      <td>37</td>\n",
              "      <td>Masculino</td>\n",
              "      <td>0.0</td>\n",
              "      <td>CrossFit</td>\n",
              "      <td>114.0</td>\n",
              "      <td>0.0</td>\n",
              "      <td>168.02</td>\n",
              "      <td>Sim</td>\n",
              "      <td>21.5</td>\n",
              "      <td>18.1</td>\n",
              "      <td>2024-01-20</td>\n",
              "      <td>Sedentária</td>\n",
              "      <td>3.4</td>\n",
              "    </tr>\n",
              "  </tbody>\n",
              "</table>\n",
              "</div>\n",
              "    <div class=\"colab-df-buttons\">\n",
              "\n",
              "  <div class=\"colab-df-container\">\n",
              "    <button class=\"colab-df-convert\" onclick=\"convertToInteractive('df-8eb938f9-d6ad-4c2a-a63f-e504431c317e')\"\n",
              "            title=\"Convert this dataframe to an interactive table.\"\n",
              "            style=\"display:none;\">\n",
              "\n",
              "  <svg xmlns=\"http://www.w3.org/2000/svg\" height=\"24px\" viewBox=\"0 -960 960 960\">\n",
              "    <path d=\"M120-120v-720h720v720H120Zm60-500h600v-160H180v160Zm220 220h160v-160H400v160Zm0 220h160v-160H400v160ZM180-400h160v-160H180v160Zm440 0h160v-160H620v160ZM180-180h160v-160H180v160Zm440 0h160v-160H620v160Z\"/>\n",
              "  </svg>\n",
              "    </button>\n",
              "\n",
              "  <style>\n",
              "    .colab-df-container {\n",
              "      display:flex;\n",
              "      gap: 12px;\n",
              "    }\n",
              "\n",
              "    .colab-df-convert {\n",
              "      background-color: #E8F0FE;\n",
              "      border: none;\n",
              "      border-radius: 50%;\n",
              "      cursor: pointer;\n",
              "      display: none;\n",
              "      fill: #1967D2;\n",
              "      height: 32px;\n",
              "      padding: 0 0 0 0;\n",
              "      width: 32px;\n",
              "    }\n",
              "\n",
              "    .colab-df-convert:hover {\n",
              "      background-color: #E2EBFA;\n",
              "      box-shadow: 0px 1px 2px rgba(60, 64, 67, 0.3), 0px 1px 3px 1px rgba(60, 64, 67, 0.15);\n",
              "      fill: #174EA6;\n",
              "    }\n",
              "\n",
              "    .colab-df-buttons div {\n",
              "      margin-bottom: 4px;\n",
              "    }\n",
              "\n",
              "    [theme=dark] .colab-df-convert {\n",
              "      background-color: #3B4455;\n",
              "      fill: #D2E3FC;\n",
              "    }\n",
              "\n",
              "    [theme=dark] .colab-df-convert:hover {\n",
              "      background-color: #434B5C;\n",
              "      box-shadow: 0px 1px 3px 1px rgba(0, 0, 0, 0.15);\n",
              "      filter: drop-shadow(0px 1px 2px rgba(0, 0, 0, 0.3));\n",
              "      fill: #FFFFFF;\n",
              "    }\n",
              "  </style>\n",
              "\n",
              "    <script>\n",
              "      const buttonEl =\n",
              "        document.querySelector('#df-8eb938f9-d6ad-4c2a-a63f-e504431c317e button.colab-df-convert');\n",
              "      buttonEl.style.display =\n",
              "        google.colab.kernel.accessAllowed ? 'block' : 'none';\n",
              "\n",
              "      async function convertToInteractive(key) {\n",
              "        const element = document.querySelector('#df-8eb938f9-d6ad-4c2a-a63f-e504431c317e');\n",
              "        const dataTable =\n",
              "          await google.colab.kernel.invokeFunction('convertToInteractive',\n",
              "                                                    [key], {});\n",
              "        if (!dataTable) return;\n",
              "\n",
              "        const docLinkHtml = 'Like what you see? Visit the ' +\n",
              "          '<a target=\"_blank\" href=https://colab.research.google.com/notebooks/data_table.ipynb>data table notebook</a>'\n",
              "          + ' to learn more about interactive tables.';\n",
              "        element.innerHTML = '';\n",
              "        dataTable['output_type'] = 'display_data';\n",
              "        await google.colab.output.renderOutput(dataTable, element);\n",
              "        const docLink = document.createElement('div');\n",
              "        docLink.innerHTML = docLinkHtml;\n",
              "        element.appendChild(docLink);\n",
              "      }\n",
              "    </script>\n",
              "  </div>\n",
              "\n",
              "\n",
              "    <div id=\"df-cefb1477-e56d-4acc-b9fa-abbfbcf3000f\">\n",
              "      <button class=\"colab-df-quickchart\" onclick=\"quickchart('df-cefb1477-e56d-4acc-b9fa-abbfbcf3000f')\"\n",
              "                title=\"Suggest charts\"\n",
              "                style=\"display:none;\">\n",
              "\n",
              "<svg xmlns=\"http://www.w3.org/2000/svg\" height=\"24px\"viewBox=\"0 0 24 24\"\n",
              "     width=\"24px\">\n",
              "    <g>\n",
              "        <path d=\"M19 3H5c-1.1 0-2 .9-2 2v14c0 1.1.9 2 2 2h14c1.1 0 2-.9 2-2V5c0-1.1-.9-2-2-2zM9 17H7v-7h2v7zm4 0h-2V7h2v10zm4 0h-2v-4h2v4z\"/>\n",
              "    </g>\n",
              "</svg>\n",
              "      </button>\n",
              "\n",
              "<style>\n",
              "  .colab-df-quickchart {\n",
              "      --bg-color: #E8F0FE;\n",
              "      --fill-color: #1967D2;\n",
              "      --hover-bg-color: #E2EBFA;\n",
              "      --hover-fill-color: #174EA6;\n",
              "      --disabled-fill-color: #AAA;\n",
              "      --disabled-bg-color: #DDD;\n",
              "  }\n",
              "\n",
              "  [theme=dark] .colab-df-quickchart {\n",
              "      --bg-color: #3B4455;\n",
              "      --fill-color: #D2E3FC;\n",
              "      --hover-bg-color: #434B5C;\n",
              "      --hover-fill-color: #FFFFFF;\n",
              "      --disabled-bg-color: #3B4455;\n",
              "      --disabled-fill-color: #666;\n",
              "  }\n",
              "\n",
              "  .colab-df-quickchart {\n",
              "    background-color: var(--bg-color);\n",
              "    border: none;\n",
              "    border-radius: 50%;\n",
              "    cursor: pointer;\n",
              "    display: none;\n",
              "    fill: var(--fill-color);\n",
              "    height: 32px;\n",
              "    padding: 0;\n",
              "    width: 32px;\n",
              "  }\n",
              "\n",
              "  .colab-df-quickchart:hover {\n",
              "    background-color: var(--hover-bg-color);\n",
              "    box-shadow: 0 1px 2px rgba(60, 64, 67, 0.3), 0 1px 3px 1px rgba(60, 64, 67, 0.15);\n",
              "    fill: var(--button-hover-fill-color);\n",
              "  }\n",
              "\n",
              "  .colab-df-quickchart-complete:disabled,\n",
              "  .colab-df-quickchart-complete:disabled:hover {\n",
              "    background-color: var(--disabled-bg-color);\n",
              "    fill: var(--disabled-fill-color);\n",
              "    box-shadow: none;\n",
              "  }\n",
              "\n",
              "  .colab-df-spinner {\n",
              "    border: 2px solid var(--fill-color);\n",
              "    border-color: transparent;\n",
              "    border-bottom-color: var(--fill-color);\n",
              "    animation:\n",
              "      spin 1s steps(1) infinite;\n",
              "  }\n",
              "\n",
              "  @keyframes spin {\n",
              "    0% {\n",
              "      border-color: transparent;\n",
              "      border-bottom-color: var(--fill-color);\n",
              "      border-left-color: var(--fill-color);\n",
              "    }\n",
              "    20% {\n",
              "      border-color: transparent;\n",
              "      border-left-color: var(--fill-color);\n",
              "      border-top-color: var(--fill-color);\n",
              "    }\n",
              "    30% {\n",
              "      border-color: transparent;\n",
              "      border-left-color: var(--fill-color);\n",
              "      border-top-color: var(--fill-color);\n",
              "      border-right-color: var(--fill-color);\n",
              "    }\n",
              "    40% {\n",
              "      border-color: transparent;\n",
              "      border-right-color: var(--fill-color);\n",
              "      border-top-color: var(--fill-color);\n",
              "    }\n",
              "    60% {\n",
              "      border-color: transparent;\n",
              "      border-right-color: var(--fill-color);\n",
              "    }\n",
              "    80% {\n",
              "      border-color: transparent;\n",
              "      border-right-color: var(--fill-color);\n",
              "      border-bottom-color: var(--fill-color);\n",
              "    }\n",
              "    90% {\n",
              "      border-color: transparent;\n",
              "      border-bottom-color: var(--fill-color);\n",
              "    }\n",
              "  }\n",
              "</style>\n",
              "\n",
              "      <script>\n",
              "        async function quickchart(key) {\n",
              "          const quickchartButtonEl =\n",
              "            document.querySelector('#' + key + ' button');\n",
              "          quickchartButtonEl.disabled = true;  // To prevent multiple clicks.\n",
              "          quickchartButtonEl.classList.add('colab-df-spinner');\n",
              "          try {\n",
              "            const charts = await google.colab.kernel.invokeFunction(\n",
              "                'suggestCharts', [key], {});\n",
              "          } catch (error) {\n",
              "            console.error('Error during call to suggestCharts:', error);\n",
              "          }\n",
              "          quickchartButtonEl.classList.remove('colab-df-spinner');\n",
              "          quickchartButtonEl.classList.add('colab-df-quickchart-complete');\n",
              "        }\n",
              "        (() => {\n",
              "          let quickchartButtonEl =\n",
              "            document.querySelector('#df-cefb1477-e56d-4acc-b9fa-abbfbcf3000f button');\n",
              "          quickchartButtonEl.style.display =\n",
              "            google.colab.kernel.accessAllowed ? 'block' : 'none';\n",
              "        })();\n",
              "      </script>\n",
              "    </div>\n",
              "\n",
              "    </div>\n",
              "  </div>\n"
            ],
            "application/vnd.google.colaboratory.intrinsic+json": {
              "type": "dataframe",
              "variable_name": "df",
              "summary": "{\n  \"name\": \"df\",\n  \"rows\": 905,\n  \"fields\": [\n    {\n      \"column\": \"idade\",\n      \"properties\": {\n        \"dtype\": \"number\",\n        \"std\": 13,\n        \"min\": 18,\n        \"max\": 64,\n        \"num_unique_values\": 47,\n        \"samples\": [\n          32,\n          54,\n          45\n        ],\n        \"semantic_type\": \"\",\n        \"description\": \"\"\n      }\n    },\n    {\n      \"column\": \"sexo\",\n      \"properties\": {\n        \"dtype\": \"category\",\n        \"num_unique_values\": 3,\n        \"samples\": [\n          \"Outro\",\n          \"Masculino\",\n          \"Feminino\"\n        ],\n        \"semantic_type\": \"\",\n        \"description\": \"\"\n      }\n    },\n    {\n      \"column\": \"frequencia_semanal_treino\",\n      \"properties\": {\n        \"dtype\": \"number\",\n        \"std\": 2.246118247408757,\n        \"min\": 0.0,\n        \"max\": 7.0,\n        \"num_unique_values\": 8,\n        \"samples\": [\n          5.0,\n          1.0,\n          7.0\n        ],\n        \"semantic_type\": \"\",\n        \"description\": \"\"\n      }\n    },\n    {\n      \"column\": \"tipo_atividade\",\n      \"properties\": {\n        \"dtype\": \"category\",\n        \"num_unique_values\": 7,\n        \"samples\": [\n          \"Nata\\u00e7\\u00e3o\",\n          \"Yoga\",\n          \"Futebol\"\n        ],\n        \"semantic_type\": \"\",\n        \"description\": \"\"\n      }\n    },\n    {\n      \"column\": \"tempo_medio_exercicio\",\n      \"properties\": {\n        \"dtype\": \"number\",\n        \"std\": 29.546635986398606,\n        \"min\": 20.2,\n        \"max\": 120.0,\n        \"num_unique_values\": 590,\n        \"samples\": [\n          82.8,\n          40.2,\n          43.8\n        ],\n        \"semantic_type\": \"\",\n        \"description\": \"\"\n      }\n    },\n    {\n      \"column\": \"minutos_totais_semana\",\n      \"properties\": {\n        \"dtype\": \"number\",\n        \"std\": 198.72109447122233,\n        \"min\": 0.0,\n        \"max\": 837.2,\n        \"num_unique_values\": 716,\n        \"samples\": [\n          382.8,\n          233.0,\n          598.0\n        ],\n        \"semantic_type\": \"\",\n        \"description\": \"\"\n      }\n    },\n    {\n      \"column\": \"preco_plano\",\n      \"properties\": {\n        \"dtype\": \"number\",\n        \"std\": 70.67495556945568,\n        \"min\": 50.05,\n        \"max\": 299.94,\n        \"num_unique_values\": 885,\n        \"samples\": [\n          163.27,\n          217.17,\n          102.41\n        ],\n        \"semantic_type\": \"\",\n        \"description\": \"\"\n      }\n    },\n    {\n      \"column\": \"possui_nutricionista\",\n      \"properties\": {\n        \"dtype\": \"category\",\n        \"num_unique_values\": 2,\n        \"samples\": [\n          \"Sim\",\n          \"N\\u00e3o\"\n        ],\n        \"semantic_type\": \"\",\n        \"description\": \"\"\n      }\n    },\n    {\n      \"column\": \"primeiro_PGC\",\n      \"properties\": {\n        \"dtype\": \"number\",\n        \"std\": 8.918810842427702,\n        \"min\": 10.0,\n        \"max\": 39.9,\n        \"num_unique_values\": 287,\n        \"samples\": [\n          25.5,\n          11.2\n        ],\n        \"semantic_type\": \"\",\n        \"description\": \"\"\n      }\n    },\n    {\n      \"column\": \"ultimo_PGC\",\n      \"properties\": {\n        \"dtype\": \"number\",\n        \"std\": 8.875940680286059,\n        \"min\": 10.0,\n        \"max\": 39.9,\n        \"num_unique_values\": 287,\n        \"samples\": [\n          21.2,\n          26.5\n        ],\n        \"semantic_type\": \"\",\n        \"description\": \"\"\n      }\n    },\n    {\n      \"column\": \"data_matricula\",\n      \"properties\": {\n        \"dtype\": \"object\",\n        \"num_unique_values\": 742,\n        \"samples\": [\n          \"2023-09-21\",\n          \"2025-07-03\"\n        ],\n        \"semantic_type\": \"\",\n        \"description\": \"\"\n      }\n    },\n    {\n      \"column\": \"estado\",\n      \"properties\": {\n        \"dtype\": \"category\",\n        \"num_unique_values\": 2,\n        \"samples\": [\n          \"Sedent\\u00e1ria\",\n          \"Ativa\"\n        ],\n        \"semantic_type\": \"\",\n        \"description\": \"\"\n      }\n    },\n    {\n      \"column\": \"evolucao_PGC\",\n      \"properties\": {\n        \"dtype\": \"number\",\n        \"std\": 12.33427682554086,\n        \"min\": -29.0,\n        \"max\": 29.700000000000003,\n        \"num_unique_values\": 589,\n        \"samples\": [\n          6.099999999999998,\n          7.1\n        ],\n        \"semantic_type\": \"\",\n        \"description\": \"\"\n      }\n    }\n  ]\n}"
            }
          },
          "metadata": {},
          "execution_count": 7
        }
      ]
    },
    {
      "cell_type": "markdown",
      "source": [
        "3. Explorar os dados"
      ],
      "metadata": {
        "id": "vvLrh3-zE-hx"
      }
    },
    {
      "cell_type": "code",
      "source": [
        "print(df.info())\n",
        "print(df.describe())\n",
        "print(df['estado'].value_counts())  # coluna-alvo"
      ],
      "metadata": {
        "colab": {
          "base_uri": "https://localhost:8080/"
        },
        "id": "VVpHmLdmFAgX",
        "outputId": "6d5bf559-d671-4ea6-bdfe-bc6364d65e49"
      },
      "execution_count": null,
      "outputs": [
        {
          "output_type": "stream",
          "name": "stdout",
          "text": [
            "<class 'pandas.core.frame.DataFrame'>\n",
            "RangeIndex: 905 entries, 0 to 904\n",
            "Data columns (total 13 columns):\n",
            " #   Column                     Non-Null Count  Dtype  \n",
            "---  ------                     --------------  -----  \n",
            " 0   idade                      905 non-null    int64  \n",
            " 1   sexo                       905 non-null    object \n",
            " 2   frequencia_semanal_treino  905 non-null    float64\n",
            " 3   tipo_atividade             905 non-null    object \n",
            " 4   tempo_medio_exercicio      905 non-null    float64\n",
            " 5   minutos_totais_semana      905 non-null    float64\n",
            " 6   preco_plano                905 non-null    float64\n",
            " 7   possui_nutricionista       905 non-null    object \n",
            " 8   primeiro_PGC               905 non-null    float64\n",
            " 9   ultimo_PGC                 905 non-null    float64\n",
            " 10  data_matricula             905 non-null    object \n",
            " 11  estado                     905 non-null    object \n",
            " 12  evolucao_PGC               905 non-null    float64\n",
            "dtypes: float64(7), int64(1), object(5)\n",
            "memory usage: 92.0+ KB\n",
            "None\n",
            "            idade  frequencia_semanal_treino  tempo_medio_exercicio  \\\n",
            "count  905.000000                 905.000000             905.000000   \n",
            "mean    40.801105                   3.562431              69.997238   \n",
            "std     13.547940                   2.246118              29.546636   \n",
            "min     18.000000                   0.000000              20.200000   \n",
            "25%     29.000000                   2.000000              43.800000   \n",
            "50%     41.000000                   4.000000              70.300000   \n",
            "75%     53.000000                   5.000000              95.200000   \n",
            "max     64.000000                   7.000000             120.000000   \n",
            "\n",
            "       minutos_totais_semana  preco_plano  primeiro_PGC  ultimo_PGC  \\\n",
            "count             905.000000   905.000000    905.000000  905.000000   \n",
            "mean              247.515138   175.143249     25.087514   24.800221   \n",
            "std               198.721094    70.674956      8.918811    8.875941   \n",
            "min                 0.000000    50.050000     10.000000   10.000000   \n",
            "25%                90.400000   114.340000     17.000000   17.300000   \n",
            "50%               203.500000   176.740000     25.200000   24.900000   \n",
            "75%               364.000000   236.460000     32.600000   32.400000   \n",
            "max               837.200000   299.940000     39.900000   39.900000   \n",
            "\n",
            "       evolucao_PGC  \n",
            "count    905.000000  \n",
            "mean       0.287293  \n",
            "std       12.334277  \n",
            "min      -29.000000  \n",
            "25%       -8.800000  \n",
            "50%        0.100000  \n",
            "75%        9.400000  \n",
            "max       29.700000  \n",
            "estado\n",
            "Ativa         796\n",
            "Sedentária    109\n",
            "Name: count, dtype: int64\n"
          ]
        }
      ]
    },
    {
      "cell_type": "markdown",
      "source": [
        "4. Separar Base de Dados em Arrays"
      ],
      "metadata": {
        "id": "W1G4YYafFnL7"
      }
    },
    {
      "cell_type": "code",
      "source": [
        "# X = features (variáveis independentes), y = target (variável dependente)\n",
        "X = df.drop(['estado_Sedentária', 'data_matricula', 'tipo_atividade'], axis=1)\n",
        "y = df['estado_Sedentária']"
      ],
      "metadata": {
        "id": "zkiPw5FGFoxf"
      },
      "execution_count": 34,
      "outputs": []
    },
    {
      "cell_type": "markdown",
      "source": [
        "5. Técnicas de Pré-processamento"
      ],
      "metadata": {
        "id": "sX27gY0rF1at"
      }
    },
    {
      "cell_type": "code",
      "source": [
        "X.dtypes\n",
        "\n",
        "X = pd.get_dummies(X, drop_first=True)\n",
        "\n",
        "X.head()\n",
        "\n",
        "scaler = StandardScaler()\n",
        "X_scaled = scaler.fit_transform(X)"
      ],
      "metadata": {
        "id": "axsBUCNcF3J2"
      },
      "execution_count": 35,
      "outputs": []
    },
    {
      "cell_type": "markdown",
      "source": [
        "6. Dividir Base de Dados entre Treino e Teste"
      ],
      "metadata": {
        "id": "tTTPofzbGa87"
      }
    },
    {
      "cell_type": "code",
      "source": [
        "X_train, X_test, y_train, y_test = train_test_split(X_scaled, y, test_size=0.2, random_state=42, stratify=y)"
      ],
      "metadata": {
        "id": "eeNzv6mZGcZJ"
      },
      "execution_count": null,
      "outputs": []
    },
    {
      "cell_type": "markdown",
      "source": [
        "7. Definir vários modelos e aplicar Treinamento"
      ],
      "metadata": {
        "id": "0KusNLKFHFJm"
      }
    },
    {
      "cell_type": "code",
      "source": [
        "# Definindo os modelos\n",
        "modelos = {\n",
        "    \"Logistic Regression\": LogisticRegression(max_iter=1000),\n",
        "    \"KNN\": KNeighborsClassifier(),\n",
        "    \"Decision Tree\": DecisionTreeClassifier(),\n",
        "    \"Random Forest\": RandomForestClassifier()\n",
        "}\n",
        "\n",
        "# Treinamento\n",
        "for nome, modelo in modelos.items():\n",
        "    modelo.fit(X_train, y_train)\n",
        "    score = modelo.score(X_test, y_test)\n",
        "    print(f\"{nome} - Acurácia: {score:.2f}\")"
      ],
      "metadata": {
        "colab": {
          "base_uri": "https://localhost:8080/"
        },
        "id": "lXng1MYJHFpZ",
        "outputId": "4eaac358-9470-41c2-cef3-779acaf2c389"
      },
      "execution_count": 36,
      "outputs": [
        {
          "output_type": "stream",
          "name": "stdout",
          "text": [
            "Logistic Regression - Acurácia: 1.00\n",
            "KNN - Acurácia: 0.91\n",
            "Decision Tree - Acurácia: 1.00\n",
            "Random Forest - Acurácia: 1.00\n"
          ]
        }
      ]
    },
    {
      "cell_type": "markdown",
      "source": [
        "8. Validar o Modelo"
      ],
      "metadata": {
        "id": "gnKFu6UZHN2a"
      }
    },
    {
      "cell_type": "code",
      "source": [
        "melhor_modelo = RandomForestClassifier()\n",
        "melhor_modelo.fit(X_train, y_train)\n",
        "y_pred = melhor_modelo.predict(X_test)\n",
        "\n",
        "print(\"Relatório de Classificação:\\n\")\n",
        "print(classification_report(y_test, y_pred))"
      ],
      "metadata": {
        "colab": {
          "base_uri": "https://localhost:8080/"
        },
        "id": "PKciD8EcHOM-",
        "outputId": "fe22de0d-3499-4562-bd96-1334dac5b47a"
      },
      "execution_count": 38,
      "outputs": [
        {
          "output_type": "stream",
          "name": "stdout",
          "text": [
            "Relatório de Classificação:\n",
            "\n",
            "              precision    recall  f1-score   support\n",
            "\n",
            "       False       1.00      1.00      1.00       159\n",
            "        True       1.00      1.00      1.00        22\n",
            "\n",
            "    accuracy                           1.00       181\n",
            "   macro avg       1.00      1.00      1.00       181\n",
            "weighted avg       1.00      1.00      1.00       181\n",
            "\n"
          ]
        }
      ]
    },
    {
      "cell_type": "markdown",
      "source": [
        "9. Salvar a Solução"
      ],
      "metadata": {
        "id": "U3o-zaOnHTDx"
      }
    },
    {
      "cell_type": "code",
      "source": [
        "# Salvar modelo treinado\n",
        "joblib.dump(melhor_modelo, \"modelo_redfit.pkl\")\n",
        "\n",
        "# Carregar modelo (quando for usar futuramente)\n",
        "modelo_carregado = joblib.load(\"modelo_redfit.pkl\")"
      ],
      "metadata": {
        "id": "HUXl2o32HTX1"
      },
      "execution_count": 39,
      "outputs": []
    }
  ]
}